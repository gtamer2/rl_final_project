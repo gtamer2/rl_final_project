{
 "cells": [
  {
   "cell_type": "code",
   "execution_count": 79,
   "metadata": {},
   "outputs": [],
   "source": [
    "from datasets import load_dataset\n",
    "from transformers import AutoTokenizer\n",
    "import copy\n",
    "\n",
    "tokenizer = AutoTokenizer.from_pretrained(\"EleutherAI/gpt-neo-125m\")\n",
    "tokenizer.pad_token = tokenizer.eos_token\n",
    "\n",
    "def tokenize(batch):\n",
    "    batch[\"input_ids\"] = tokenizer(batch[\"query\"], padding=True, truncation=True, return_tensors=\"pt\").input_ids\n",
    "    return batch\n",
    "\n",
    "def getDataset(dataset_size=None, batch_size=32):\n",
    "    \n",
    "    if dataset_size is None:\n",
    "        split = \"train\"\n",
    "    else:\n",
    "        split = \"train[:\" + str(dataset_size) + \"]\"\n",
    "        \n",
    "    ds = load_dataset(\"argilla/OpenHermesPreferences\", split=split)\n",
    "    rs = copy.deepcopy(ds)\n",
    "    \n",
    "    cols = list(ds[0].keys())\n",
    "    \n",
    "    ds = ds.rename_column(\"prompt\", \"query\")\n",
    "    ds = ds.remove_columns([k for k in cols if k!=\"query\" and k!='prompt'])\n",
    "    ds = ds.map(tokenize, batched=True, batch_size=batch_size)\n",
    "    \n",
    "    rs = rs.remove_columns([k for k in cols if k!=\"chosen\"])\n",
    "    \n",
    "    return ds, rs"
   ]
  },
  {
   "cell_type": "code",
   "execution_count": 84,
   "metadata": {},
   "outputs": [
    {
     "data": {
      "application/json": {
       "ascii": false,
       "bar_format": null,
       "colour": null,
       "elapsed": 0.04989480972290039,
       "initial": 0,
       "n": 0,
       "ncols": null,
       "nrows": null,
       "postfix": null,
       "prefix": "Map",
       "rate": null,
       "total": 10,
       "unit": " examples",
       "unit_divisor": 1000,
       "unit_scale": false
      },
      "application/vnd.jupyter.widget-view+json": {
       "model_id": "909abfc42e2349a995203c5f6c753612",
       "version_major": 2,
       "version_minor": 0
      },
      "text/plain": [
       "Map:   0%|          | 0/10 [00:00<?, ? examples/s]"
      ]
     },
     "metadata": {},
     "output_type": "display_data"
    }
   ],
   "source": [
    "from utils.dataset import getDataset as gd\n",
    "\n",
    "dataset_dict, response_dict = gd(10)"
   ]
  }
 ],
 "metadata": {
  "kernelspec": {
   "display_name": "Python 3",
   "language": "python",
   "name": "python3"
  },
  "language_info": {
   "codemirror_mode": {
    "name": "ipython",
    "version": 3
   },
   "file_extension": ".py",
   "mimetype": "text/x-python",
   "name": "python",
   "nbconvert_exporter": "python",
   "pygments_lexer": "ipython3",
   "version": "3.10.4"
  }
 },
 "nbformat": 4,
 "nbformat_minor": 2
}
