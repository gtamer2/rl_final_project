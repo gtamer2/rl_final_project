{
 "cells": [
  {
   "cell_type": "code",
   "execution_count": 1,
   "metadata": {},
   "outputs": [
    {
     "name": "stderr",
     "output_type": "stream",
     "text": [
      "2024-05-06 16:58:08.511919: I tensorflow/core/platform/cpu_feature_guard.cc:210] This TensorFlow binary is optimized to use available CPU instructions in performance-critical operations.\n",
      "To enable the following instructions: AVX2 FMA, in other operations, rebuild TensorFlow with the appropriate compiler flags.\n",
      "WARNING:root:No ranker config provided, no ranker loaded, please load ranker first through load_ranker()\n",
      "WARNING:root:No fuser config provided, no fuser loaded, please load fuser first through load_fuser()\n",
      "/opt/conda/lib/python3.10/site-packages/dataclasses_json/core.py:189: RuntimeWarning: 'NoneType' object value of non-optional type load_checkpoint detected when decoding RankerConfig.\n",
      "  warnings.warn(\n",
      "/opt/conda/lib/python3.10/site-packages/dataclasses_json/core.py:189: RuntimeWarning: 'NoneType' object value of non-optional type device detected when decoding RankerConfig.\n",
      "  warnings.warn(\n",
      "/opt/conda/lib/python3.10/site-packages/huggingface_hub/file_download.py:1132: FutureWarning: `resume_download` is deprecated and will be removed in version 1.0.0. Downloads always resume when possible. If you want to force a new download, use `force_download=True`.\n",
      "  warnings.warn(\n",
      "/opt/conda/lib/python3.10/site-packages/transformers/convert_slow_tokenizer.py:560: UserWarning: The sentencepiece tokenizer that you are converting to a fast tokenizer uses the byte fallback option which is not implemented in the fast tokenizers. In practice this means that the fast version of the tokenizer can produce unknown tokens whereas the sentencepiece version would have converted these unknown tokens into a sequence of byte tokens matching the original piece of text.\n",
      "  warnings.warn(\n"
     ]
    },
    {
     "name": "stdout",
     "output_type": "stream",
     "text": [
      "Successfully loaded ranker from  /home/kg3081/.cache/huggingface/hub/llm-blender/PairRM\n"
     ]
    },
    {
     "name": "stderr",
     "output_type": "stream",
     "text": [
      "/opt/conda/lib/python3.10/site-packages/huggingface_hub/file_download.py:1132: FutureWarning: `resume_download` is deprecated and will be removed in version 1.0.0. Downloads always resume when possible. If you want to force a new download, use `force_download=True`.\n",
      "  warnings.warn(\n"
     ]
    },
    {
     "data": {
      "application/vnd.jupyter.widget-view+json": {
       "model_id": "b9351de0bc5f4e798127883ee5205f41",
       "version_major": 2,
       "version_minor": 0
      },
      "text/plain": [
       "Map:   0%|          | 0/68 [00:00<?, ? examples/s]"
      ]
     },
     "metadata": {},
     "output_type": "display_data"
    },
    {
     "name": "stdout",
     "output_type": "stream",
     "text": [
      "Epoch 0/10\n"
     ]
    },
    {
     "name": "stderr",
     "output_type": "stream",
     "text": [
      "Ranking with referencie for candidates: 100%|██████████| 32/32 [00:11<00:00,  2.78it/s]\n",
      "Ranking with referencie for candidates: 100%|██████████| 32/32 [00:09<00:00,  3.21it/s]\n",
      "100%|██████████| 2/2 [00:35<00:00, 17.79s/it]\n"
     ]
    },
    {
     "name": "stdout",
     "output_type": "stream",
     "text": [
      "Epoch 1/10\n"
     ]
    },
    {
     "name": "stderr",
     "output_type": "stream",
     "text": [
      "Ranking with referencie for candidates: 100%|██████████| 32/32 [00:09<00:00,  3.33it/s]\n",
      "Ranking with referencie for candidates: 100%|██████████| 32/32 [00:10<00:00,  3.08it/s]\n",
      "100%|██████████| 2/2 [00:35<00:00, 17.72s/it]\n"
     ]
    },
    {
     "name": "stdout",
     "output_type": "stream",
     "text": [
      "Epoch 2/10\n"
     ]
    },
    {
     "name": "stderr",
     "output_type": "stream",
     "text": [
      "Ranking with referencie for candidates: 100%|██████████| 32/32 [00:13<00:00,  2.40it/s]\n",
      "Ranking with referencie for candidates: 100%|██████████| 32/32 [00:09<00:00,  3.33it/s]\n",
      "100%|██████████| 2/2 [00:41<00:00, 20.94s/it]\n"
     ]
    },
    {
     "name": "stdout",
     "output_type": "stream",
     "text": [
      "Epoch 3/10\n"
     ]
    },
    {
     "name": "stderr",
     "output_type": "stream",
     "text": [
      "Ranking with referencie for candidates: 100%|██████████| 32/32 [00:10<00:00,  3.14it/s]\n",
      "Ranking with referencie for candidates: 100%|██████████| 32/32 [00:09<00:00,  3.35it/s]\n",
      "100%|██████████| 2/2 [00:37<00:00, 18.64s/it]\n"
     ]
    },
    {
     "name": "stdout",
     "output_type": "stream",
     "text": [
      "Epoch 4/10\n"
     ]
    },
    {
     "name": "stderr",
     "output_type": "stream",
     "text": [
      "Ranking with referencie for candidates: 100%|██████████| 32/32 [00:10<00:00,  3.02it/s]\n",
      "Ranking with referencie for candidates: 100%|██████████| 32/32 [00:09<00:00,  3.32it/s]\n",
      "100%|██████████| 2/2 [00:39<00:00, 19.64s/it]\n"
     ]
    },
    {
     "name": "stdout",
     "output_type": "stream",
     "text": [
      "Epoch 5/10\n"
     ]
    },
    {
     "name": "stderr",
     "output_type": "stream",
     "text": [
      "Ranking with referencie for candidates: 100%|██████████| 32/32 [00:11<00:00,  2.91it/s]\n",
      "Ranking with referencie for candidates: 100%|██████████| 32/32 [00:10<00:00,  2.92it/s]\n",
      "100%|██████████| 2/2 [00:43<00:00, 21.71s/it]\n"
     ]
    },
    {
     "name": "stdout",
     "output_type": "stream",
     "text": [
      "Epoch 6/10\n"
     ]
    },
    {
     "name": "stderr",
     "output_type": "stream",
     "text": [
      "Ranking with referencie for candidates: 100%|██████████| 32/32 [00:10<00:00,  3.01it/s]\n",
      "Ranking with referencie for candidates: 100%|██████████| 32/32 [00:10<00:00,  2.94it/s]\n",
      "100%|██████████| 2/2 [00:44<00:00, 22.34s/it]\n"
     ]
    },
    {
     "name": "stdout",
     "output_type": "stream",
     "text": [
      "Epoch 7/10\n"
     ]
    },
    {
     "name": "stderr",
     "output_type": "stream",
     "text": [
      "Ranking with referencie for candidates: 100%|██████████| 32/32 [00:10<00:00,  3.09it/s]\n",
      "Ranking with referencie for candidates: 100%|██████████| 32/32 [00:14<00:00,  2.19it/s]\n",
      "100%|██████████| 2/2 [00:48<00:00, 24.10s/it]\n"
     ]
    },
    {
     "name": "stdout",
     "output_type": "stream",
     "text": [
      "Epoch 8/10\n"
     ]
    },
    {
     "name": "stderr",
     "output_type": "stream",
     "text": [
      "Ranking with referencie for candidates: 100%|██████████| 32/32 [00:10<00:00,  2.98it/s]\n",
      "Ranking with referencie for candidates: 100%|██████████| 32/32 [00:11<00:00,  2.86it/s]\n",
      "100%|██████████| 2/2 [00:46<00:00, 23.23s/it]\n"
     ]
    },
    {
     "name": "stdout",
     "output_type": "stream",
     "text": [
      "Epoch 9/10\n"
     ]
    },
    {
     "name": "stderr",
     "output_type": "stream",
     "text": [
      "Ranking with referencie for candidates: 100%|██████████| 32/32 [00:10<00:00,  2.91it/s]\n",
      "Ranking with referencie for candidates: 100%|██████████| 32/32 [00:10<00:00,  3.04it/s]\n",
      "100%|██████████| 2/2 [00:44<00:00, 22.46s/it]\n",
      "/opt/conda/lib/python3.10/site-packages/trl/trainer/ppo_trainer.py:1407: UserWarning: Cannot retrieve user information assuming you are running in offline mode.\n",
      "  warnings.warn(\"Cannot retrieve user information assuming you are running in offline mode.\")\n"
     ]
    }
   ],
   "source": [
    "from utils.ppo_trainer import perform_rlhf_ppo_training\n",
    "\n",
    "import os\n",
    "os.environ['TRANSFORMERS_NO_ADVISORY_WARNINGS'] = 'true'\n",
    "\n",
    "import warnings\n",
    "from transformers import logging\n",
    "\n",
    "# Suppress only the padding warning\n",
    "warnings.filterwarnings(\"ignore\", message=\".*right-padding.*\")\n",
    "logging.set_verbosity_error()  # This sets the logging level for Transformers to error only\n",
    "\n",
    "\n",
    "perform_rlhf_ppo_training()"
   ]
  }
 ],
 "metadata": {
  "kernelspec": {
   "display_name": "venv",
   "language": "python",
   "name": "python3"
  },
  "language_info": {
   "codemirror_mode": {
    "name": "ipython",
    "version": 3
   },
   "file_extension": ".py",
   "mimetype": "text/x-python",
   "name": "python",
   "nbconvert_exporter": "python",
   "pygments_lexer": "ipython3",
   "version": "3.10.13"
  }
 },
 "nbformat": 4,
 "nbformat_minor": 2
}
